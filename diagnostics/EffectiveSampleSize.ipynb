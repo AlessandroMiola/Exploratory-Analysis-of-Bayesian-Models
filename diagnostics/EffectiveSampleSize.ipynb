{
 "cells": [
  {
   "cell_type": "markdown",
   "metadata": {},
   "source": [
    "# Effective Sample Size (N_Effective)\n",
    "\n",
    "## Effective Samples Introduction\n",
    "From Wikipedia *In statistics and quantitative research methodology, a data sample is a set of data collected and/or selected from a statistical population by a defined procedure*. Properly sampling is one of the most challenging parts of experimental design for all statistics, one of the pitfalls being correlated data points in a sample.\n",
    "\n",
    "For example if designing a drug to lower blood pressure, and if only able to 10 readings consider 3 designs.\n",
    "\n",
    "1. 10 readings from 1 person\n",
    "2. 10 readings from 10 people in one family\n",
    "3. 10 readings from 10 random people\n",
    "\n",
    "In each of these designs the number of data points remains the same, 10 readings, but an argument can be made that the **effective sample size** is not the same. In the first example, 10 readings from 1 person is a poor sample of if a drug works, there effectively was only one test if a drug had an effect. The second example is an improvement, but given knowledge of genetics family members will likely have similar reponses to a drug. The effective sample size is not one, but it could be argued that the sample size is greater than 10. In the last case 10 readings from 10 people would probably\n",
    "\n",
    "The key notion is that effective samples are ones that present new information about the objective of the experiment.\n",
    "\n",
    "## Effective Sample Size in Markov Chain Monte Carlo\n",
    "In MCMC samples are draws from the Markov Chain. Before the chain reaches convergence draws could be correlated, meaning the nth sample may not be independent from the (n-1) draw.\n",
    "\n",
    "To estimate the Gelman etal provide the following calculation $$\\hat{n}_{eff} = \\frac{mn}{1 + 2 \\sum_{t=1}^T \\hat{\\rho}_t}$$\n",
    "\n",
    "**TODO** Provide more information about effective sample size  \n",
    "\n"
   ]
  },
  {
   "cell_type": "markdown",
   "metadata": {},
   "source": [
    "### Examples"
   ]
  },
  {
   "cell_type": "code",
   "execution_count": 41,
   "metadata": {},
   "outputs": [],
   "source": [
    "import pymc3 as pm\n",
    "import pystan\n",
    "import arviz as az\n",
    "import numpy as np\n",
    "\n",
    "# Generate observed distribution with fixed parameters\n",
    "SD = 2\n",
    "MU = -5\n",
    "obs = np.random.normal(loc=MU, scale=SD, size=10000)"
   ]
  },
  {
   "cell_type": "markdown",
   "metadata": {},
   "source": [
    "### TODO Create an example of model with a low number of effective samples, and a high number of effective samples"
   ]
  },
  {
   "cell_type": "code",
   "execution_count": 42,
   "metadata": {},
   "outputs": [],
   "source": [
    "stan_model = \"\"\"\n",
    "data {\n",
    "    int<lower=0> N;\n",
    "    real obs[N];\n",
    "}\n",
    "parameters {\n",
    "    real mu;\n",
    "}\n",
    "model {\n",
    "    mu ~ normal(-50000, 1);\n",
    "    obs ~ normal(mu, 2);\n",
    "}\n",
    "\"\"\""
   ]
  },
  {
   "cell_type": "code",
   "execution_count": 43,
   "metadata": {},
   "outputs": [
    {
     "name": "stderr",
     "output_type": "stream",
     "text": [
      "INFO:pystan:COMPILING THE C++ CODE FOR MODEL anon_model_772f4b486be94f0ca9ea166d5da74034 NOW.\n"
     ]
    },
    {
     "name": "stdout",
     "output_type": "stream",
     "text": [
      "In file included from /var/folders/gt/28pvdm614vd_2tn01llmx3s00000gp/T/tmp6hc6o6ky/stanfit4anon_model_772f4b486be94f0ca9ea166d5da74034_7519578471532427562.cpp:642:\n",
      "In file included from /Users/canyon/.miniconda3/envs/arviz/lib/python3.6/site-packages/numpy/core/include/numpy/arrayobject.h:4:\n",
      "In file included from /Users/canyon/.miniconda3/envs/arviz/lib/python3.6/site-packages/numpy/core/include/numpy/ndarrayobject.h:18:\n",
      "In file included from /Users/canyon/.miniconda3/envs/arviz/lib/python3.6/site-packages/numpy/core/include/numpy/ndarraytypes.h:1821:\n",
      "/Users/canyon/.miniconda3/envs/arviz/lib/python3.6/site-packages/numpy/core/include/numpy/npy_1_7_deprecated_api.h:15:2: warning: \"Using deprecated NumPy API, disable it by \"          \"#defining NPY_NO_DEPRECATED_API NPY_1_7_API_VERSION\" [-W#warnings]\n",
      "#warning \"Using deprecated NumPy API, disable it by \" \\\n",
      " ^\n",
      "/var/folders/gt/28pvdm614vd_2tn01llmx3s00000gp/T/tmp6hc6o6ky/stanfit4anon_model_772f4b486be94f0ca9ea166d5da74034_7519578471532427562.cpp:9397:30: warning: comparison of integers of different signs: 'Py_ssize_t' (aka 'long') and 'std::__1::vector<std::__1::basic_string<char>, std::__1::allocator<std::__1::basic_string<char> > >::size_type' (aka 'unsigned long') [-Wsign-compare]\n",
      "    __pyx_t_12 = ((__pyx_t_9 != __pyx_v_fitptr->param_names_oi().size()) != 0);\n",
      "                   ~~~~~~~~~ ^  ~~~~~~~~~~~~~~~~~~~~~~~~~~~~~~~~~~~~~~~\n",
      "/var/folders/gt/28pvdm614vd_2tn01llmx3s00000gp/T/tmp6hc6o6ky/stanfit4anon_model_772f4b486be94f0ca9ea166d5da74034_7519578471532427562.cpp:27799:52: warning: code will never be executed [-Wunreachable-code]\n",
      "        } else if (PY_VERSION_HEX >= 0x030700A0 && flag == (METH_FASTCALL | METH_KEYWORDS)) {\n",
      "                                                   ^~~~\n",
      "/var/folders/gt/28pvdm614vd_2tn01llmx3s00000gp/T/tmp6hc6o6ky/stanfit4anon_model_772f4b486be94f0ca9ea166d5da74034_7519578471532427562.cpp:27799:38: note: silence by adding parentheses to mark code as explicitly dead\n",
      "        } else if (PY_VERSION_HEX >= 0x030700A0 && flag == (METH_FASTCALL | METH_KEYWORDS)) {\n",
      "                                     ^\n",
      "                                     /* DISABLES CODE */ ( )\n",
      "3 warnings generated.\n"
     ]
    },
    {
     "data": {
      "text/plain": [
       "<xarray.Dataset>\n",
       "Dimensions:  ()\n",
       "Data variables:\n",
       "    mu       float64 210.0"
      ]
     },
     "execution_count": 43,
     "metadata": {},
     "output_type": "execute_result"
    }
   ],
   "source": [
    "fit = pystan.stan(model_code=stan_model, data={\"obs\":obs, \"N\":10000}, iter=500, chains=2, algorithm=\"NUTS\")\n",
    "az.effective_n(fit)"
   ]
  },
  {
   "cell_type": "code",
   "execution_count": 44,
   "metadata": {},
   "outputs": [
    {
     "data": {
      "text/plain": [
       "array([[<matplotlib.axes._subplots.AxesSubplot object at 0x11cbd5898>,\n",
       "        <matplotlib.axes._subplots.AxesSubplot object at 0x11cbc0908>]],\n",
       "      dtype=object)"
      ]
     },
     "execution_count": 44,
     "metadata": {},
     "output_type": "execute_result"
    },
    {
     "data": {
      "image/png": "[encoded data removed]",
      "text/plain": [
       "<Figure size 993.6x331.2 with 2 Axes>"
      ]
     },
     "metadata": {
      "needs_background": "light"
     },
     "output_type": "display_data"
    }
   ],
   "source": [
    "az.plot_autocorr(fit)"
   ]
  },
  {
   "cell_type": "markdown",
   "metadata": {},
   "source": [
    "### Add text of why effective sample is higher here"
   ]
  },
  {
   "cell_type": "code",
   "execution_count": 45,
   "metadata": {},
   "outputs": [],
   "source": [
    "stan_model = \"\"\"\n",
    "data {\n",
    "    int<lower=0> N;\n",
    "    real obs[N];\n",
    "}\n",
    "parameters {\n",
    "    real mu;\n",
    "}\n",
    "model {\n",
    "    mu ~ normal(-5, 1);\n",
    "    obs ~ normal(mu, 2);\n",
    "}\n",
    "\"\"\""
   ]
  },
  {
   "cell_type": "code",
   "execution_count": 46,
   "metadata": {},
   "outputs": [
    {
     "name": "stderr",
     "output_type": "stream",
     "text": [
      "INFO:pystan:COMPILING THE C++ CODE FOR MODEL anon_model_4d6898c286e45a9f74ce23a67f4b04eb NOW.\n"
     ]
    },
    {
     "name": "stdout",
     "output_type": "stream",
     "text": [
      "In file included from /var/folders/gt/28pvdm614vd_2tn01llmx3s00000gp/T/tmpcnulsrc9/stanfit4anon_model_4d6898c286e45a9f74ce23a67f4b04eb_2924730124593276088.cpp:642:\n",
      "In file included from /Users/canyon/.miniconda3/envs/arviz/lib/python3.6/site-packages/numpy/core/include/numpy/arrayobject.h:4:\n",
      "In file included from /Users/canyon/.miniconda3/envs/arviz/lib/python3.6/site-packages/numpy/core/include/numpy/ndarrayobject.h:18:\n",
      "In file included from /Users/canyon/.miniconda3/envs/arviz/lib/python3.6/site-packages/numpy/core/include/numpy/ndarraytypes.h:1821:\n",
      "/Users/canyon/.miniconda3/envs/arviz/lib/python3.6/site-packages/numpy/core/include/numpy/npy_1_7_deprecated_api.h:15:2: warning: \"Using deprecated NumPy API, disable it by \"          \"#defining NPY_NO_DEPRECATED_API NPY_1_7_API_VERSION\" [-W#warnings]\n",
      "#warning \"Using deprecated NumPy API, disable it by \" \\\n",
      " ^\n",
      "/var/folders/gt/28pvdm614vd_2tn01llmx3s00000gp/T/tmpcnulsrc9/stanfit4anon_model_4d6898c286e45a9f74ce23a67f4b04eb_2924730124593276088.cpp:9397:30: warning: comparison of integers of different signs: 'Py_ssize_t' (aka 'long') and 'std::__1::vector<std::__1::basic_string<char>, std::__1::allocator<std::__1::basic_string<char> > >::size_type' (aka 'unsigned long') [-Wsign-compare]\n",
      "    __pyx_t_12 = ((__pyx_t_9 != __pyx_v_fitptr->param_names_oi().size()) != 0);\n",
      "                   ~~~~~~~~~ ^  ~~~~~~~~~~~~~~~~~~~~~~~~~~~~~~~~~~~~~~~\n",
      "/var/folders/gt/28pvdm614vd_2tn01llmx3s00000gp/T/tmpcnulsrc9/stanfit4anon_model_4d6898c286e45a9f74ce23a67f4b04eb_2924730124593276088.cpp:27799:52: warning: code will never be executed [-Wunreachable-code]\n",
      "        } else if (PY_VERSION_HEX >= 0x030700A0 && flag == (METH_FASTCALL | METH_KEYWORDS)) {\n",
      "                                                   ^~~~\n",
      "/var/folders/gt/28pvdm614vd_2tn01llmx3s00000gp/T/tmpcnulsrc9/stanfit4anon_model_4d6898c286e45a9f74ce23a67f4b04eb_2924730124593276088.cpp:27799:38: note: silence by adding parentheses to mark code as explicitly dead\n",
      "        } else if (PY_VERSION_HEX >= 0x030700A0 && flag == (METH_FASTCALL | METH_KEYWORDS)) {\n",
      "                                     ^\n",
      "                                     /* DISABLES CODE */ ( )\n",
      "3 warnings generated.\n"
     ]
    },
    {
     "data": {
      "text/plain": [
       "<xarray.Dataset>\n",
       "Dimensions:  ()\n",
       "Data variables:\n",
       "    mu       float64 161.0"
      ]
     },
     "execution_count": 46,
     "metadata": {},
     "output_type": "execute_result"
    }
   ],
   "source": [
    "fit = pystan.stan(model_code=stan_model, data={\"obs\":obs, \"N\":10000}, iter=500, chains=2, algorithm=\"NUTS\")\n",
    "az.effective_n(fit)"
   ]
  },
  {
   "cell_type": "code",
   "execution_count": 47,
   "metadata": {},
   "outputs": [
    {
     "data": {
      "text/plain": [
       "array([[<matplotlib.axes._subplots.AxesSubplot object at 0x11c9227b8>,\n",
       "        <matplotlib.axes._subplots.AxesSubplot object at 0x11d570fd0>]],\n",
       "      dtype=object)"
      ]
     },
     "execution_count": 47,
     "metadata": {},
     "output_type": "execute_result"
    },
    {
     "data": {
      "image/png": "[encoded data removed]",
      "text/plain": [
       "<Figure size 993.6x331.2 with 2 Axes>"
      ]
     },
     "metadata": {
      "needs_background": "light"
     },
     "output_type": "display_data"
    }
   ],
   "source": [
    "az.plot_autocorr(fit)"
   ]
  },
  {
   "cell_type": "markdown",
   "metadata": {},
   "source": [
    "### Resources\n",
    "[Effective Sample Size](https://www.youtube.com/watch?v=67zCIqdeXpo&t=227s) - Josh Starmer\n",
    "\n",
    "### See also\n",
    "Autocorrelation"
   ]
  }
 ],
 "metadata": {
  "kernelspec": {
   "display_name": "Python 3",
   "language": "python",
   "name": "python3"
  },
  "language_info": {
   "codemirror_mode": {
    "name": "ipython",
    "version": 3
   },
   "file_extension": ".py",
   "mimetype": "text/x-python",
   "name": "python",
   "nbconvert_exporter": "python",
   "pygments_lexer": "ipython3",
   "version": "3.6.6"
  }
 },
 "nbformat": 4,
 "nbformat_minor": 2
}
