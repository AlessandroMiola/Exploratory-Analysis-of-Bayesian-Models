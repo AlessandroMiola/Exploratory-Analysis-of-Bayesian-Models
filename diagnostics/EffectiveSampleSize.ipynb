{
 "cells": [
  {
   "cell_type": "markdown",
   "metadata": {},
   "source": [
    "# Effective Sample Size (N_Effective)\n",
    "\n",
    "## Effective Samples Introduction\n",
    "From Wikipedia *In statistics and quantitative research methodology, a data sample is a set of data collected and/or selected from a statistical population by a defined procedure*. Properly sampling is one of the most challenging parts of experimental design for all statistics, one of the pitfalls being correlated data points in a sample.\n",
    "\n",
    "For example if designing a drug to lower blood pressure, and if only able to 10 readings consider 3 designs.\n",
    "\n",
    "1. 10 readings from 1 person\n",
    "2. 10 readings from 10 people in one family\n",
    "3. 10 readings from 10 random people\n",
    "\n",
    "In each of these designs the number of data points remains the same, 10 readings, but an argument can be made that the **effective sample size** is not the same. In the first example, 10 readings from 1 person is a poor sample of if a drug works, there effectively was only one test if a drug had an effect. The second example is an improvement, but given knowledge of genetics family members will likely have similar reponses to a drug. The effective sample size is not one, but it could be argued that the sample size is greater than 10. In the last case 10 readings from 10 people would probably\n",
    "\n",
    "The key notion is that effective samples are ones that present new information about the objective of the experiment.\n",
    "\n",
    "## Effective Sample Size in Markov Chain Monte Carlo\n",
    "In MCMC samples are draws from the Markov Chain. Before the chain reaches convergence draws could be correlated, meaning the nth sample may not be independent from the (n-1) draw.\n",
    "\n",
    "To estimate the Gelman etal provide the following calculation $$\\hat{n}_{eff} = \\frac{mn}{1 + 2 \\sum_{t=1}^T \\hat{\\rho}_t}$$\n",
    "\n",
    "**TODO** Provide more information about effective sample size  \n",
    "\n"
   ]
  },
  {
   "cell_type": "markdown",
   "metadata": {},
   "source": [
    "### Examples"
   ]
  },
  {
   "cell_type": "code",
   "execution_count": 2,
   "metadata": {},
   "outputs": [],
   "source": [
    "import pymc3 as pm\n",
    "import arviz as az\n",
    "import numpy as np\n",
    "\n",
    "# Generate observed distribution with fixed parameters\n",
    "SD = 2\n",
    "MU = -5\n",
    "obs = np.random.normal(loc=MU, scale=SD, size=10000)"
   ]
  },
  {
   "cell_type": "markdown",
   "metadata": {},
   "source": [
    "### TODO\n",
    "Add text about how neffective is low here"
   ]
  },
  {
   "cell_type": "code",
   "execution_count": 3,
   "metadata": {},
   "outputs": [
    {
     "name": "stderr",
     "output_type": "stream",
     "text": [
      "Only 100 samples in chain.\n",
      "Multiprocess sampling (2 chains in 2 jobs)\n",
      "Metropolis: [mu]\n",
      "Sampling 2 chains: 100%|██████████| 1200/1200 [00:00<00:00, 4280.47draws/s]\n",
      "The number of effective samples is smaller than 10% for some parameters.\n"
     ]
    }
   ],
   "source": [
    "# Attempt to use pymc3 to estimate mean of the distribution\n",
    "with pm.Model() as model:\n",
    "    mu = pm.Normal(\"mu\", mu=-5000, sd=1)\n",
    "    y = pm.Normal(\"y\", mu=mu, sd=SD, observed=obs)\n",
    "    step = pm.Metropolis()\n",
    "    trace = pm.sample(100, step, chains=2)"
   ]
  },
  {
   "cell_type": "code",
   "execution_count": 5,
   "metadata": {},
   "outputs": [
    {
     "name": "stderr",
     "output_type": "stream",
     "text": [
      "Only 100 samples in chain.\n",
      "Multiprocess sampling (2 chains in 2 jobs)\n",
      "Metropolis: [mu]\n",
      "Sampling 2 chains: 100%|██████████| 1200/1200 [00:00<00:00, 2114.39draws/s]\n",
      "The number of effective samples is smaller than 25% for some parameters.\n"
     ]
    },
    {
     "data": {
      "text/plain": [
       "<xarray.Dataset>\n",
       "Dimensions:  ()\n",
       "Data variables:\n",
       "    mu       float64 42.0"
      ]
     },
     "execution_count": 5,
     "metadata": {},
     "output_type": "execute_result"
    }
   ],
   "source": [
    "# Attempt to use pymc3 to estimate mean of the distribution\n",
    "with pm.Model() as model:\n",
    "    mu = pm.Uniform(\"mu\")\n",
    "    y = pm.Normal(\"y\", mu=mu, sd=SD, observed=obs)\n",
    "    step = pm.Metropolis()\n",
    "    trace = pm.sample(100, step, chains=2)\n",
    "    \n",
    "az.effective_n(trace)"
   ]
  },
  {
   "cell_type": "markdown",
   "metadata": {},
   "source": [
    "### Resources\n",
    "[Effective Sample Size](https://www.youtube.com/watch?v=67zCIqdeXpo&t=227s) - Josh Starmer\n",
    "\n",
    "### See also\n",
    "Autocorrelation"
   ]
  },
  {
   "cell_type": "code",
   "execution_count": null,
   "metadata": {},
   "outputs": [],
   "source": []
  }
 ],
 "metadata": {
  "kernelspec": {
   "display_name": "Python 3",
   "language": "python",
   "name": "python3"
  },
  "language_info": {
   "codemirror_mode": {
    "name": "ipython",
    "version": 3
   },
   "file_extension": ".py",
   "mimetype": "text/x-python",
   "name": "python",
   "nbconvert_exporter": "python",
   "pygments_lexer": "ipython3",
   "version": "3.6.6"
  }
 },
 "nbformat": 4,
 "nbformat_minor": 2
}
