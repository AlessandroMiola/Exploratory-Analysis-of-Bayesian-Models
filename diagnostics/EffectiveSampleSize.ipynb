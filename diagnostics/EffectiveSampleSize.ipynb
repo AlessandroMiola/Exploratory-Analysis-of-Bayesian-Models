{
 "cells": [
  {
   "cell_type": "markdown",
   "metadata": {},
   "source": [
    "# Effective Sample Size (Alpha)\n",
    "\n",
    "From Wikipedia *In statistics and quantitative research methodology, a data sample is a set of data collected and/or selected from a statistical population by a defined procedure*. Properly sampling is one of the most challenging parts of experimental design for all statistics, one of the pitfalls being correlated data points in a sample.\n",
    "\n",
    "For example if designing a drug to lower blood pressure, and if only able to 10 readings consider 3 designs.\n",
    "\n",
    "1. 10 readings from 1 person\n",
    "2. 10 readings from 10 people in one family\n",
    "3. 10 readings from 10 random people\n",
    "\n",
    "In each of these designs the number of data points remains the same, 10 readings, but an argument can be made that the **effective sample size** is not the same. In the first example, 10 readings from 1 person is a poor sample of if a drug works, there effectively was only one test if a drug had an effect. The second example is an improvement, but given knowledge of genetics family members will likely have similar reponses to a drug. The effective sample size is not one, but it could be argued that the sample size is greater than 10. In the last case 10 readings from 10 people would probably\n",
    "\n",
    "The key notion is that effective samples are ones that present new information about the objective of the experiment.\n",
    "\n",
    "## Effective Sample Size in Markov Chain Monte Carlo\n",
    "In MCMC samples are draws from the Markov Chain. Before the chain reaches convergence draws could be correlated, meaning the nth sample may not be independent from the (n-1) draw.\n",
    "\n",
    "**TODO**\n",
    "Wait for the result of this discussion\n",
    "https://github.com/arviz-devs/arviz/issues/422\n",
    "\n",
    "To estimate the Gelman etal provide the following calculation $$\\hat{n}_{eff} = \\frac{mn}{1 + 2 \\sum_{t=1}^T \\hat{\\rho}_t}$$\n",
    "\n",
    "where \n",
    "\n",
    "\\begin{aligned} \n",
    "m &= \\text{Number of chains} \\\\\n",
    "n &= \\text{Number of draws} \\\\\n",
    "t &= \\text{Autocorrelation lag} \\\\\n",
    "T &= \\text{Stopping point (for autocorrelation lag)} \\\\\n",
    "\\hat{\\rho}_t &= \\text{Estimate of the sum of correlations}\n",
    "\\end{aligned} \n",
    "\n",
    "\n",
    "The full derivation can be found in *Bayesian Data Analysis 3rd ed* equations *11.5* to *11.8*. However the intuition is as follows. If draws from a Markov Chain is uncorrelated \n",
    "\n",
    "$$ \\hat{\\rho}_t = 0 $$\n",
    "\n",
    "and therefore\n",
    "\n",
    "$$ \\hat{n}_{eff} = \\frac{mn}{1 + 2 \\sum_{t=1}^T 0} = mn $$\n",
    "\n"
   ]
  },
  {
   "cell_type": "markdown",
   "metadata": {},
   "source": [
    "## Examples"
   ]
  },
  {
   "cell_type": "markdown",
   "metadata": {},
   "source": [
    "### Eight Schools Model Formulation\n",
    "Effective Samples Size is a helpful diagnostic formulating the Eight Schools Model. More on the Eight Schools Model can be found **here**\n",
    "\n",
    "**TODO** Add reference to Eight Schools model\n",
    "\n",
    "While the finished inference run can be loaded with `az.load_arviz_data(\"non_centered_eight\")' and az.load_arviz_data(\"centered_eight\")` in this example Stan will be used with ArviZ for completeness."
   ]
  },
  {
   "cell_type": "code",
   "execution_count": 1,
   "metadata": {},
   "outputs": [],
   "source": [
    "import pystan\n",
    "import arviz as az\n",
    "import numpy as np"
   ]
  },
  {
   "cell_type": "markdown",
   "metadata": {},
   "source": [
    "### Eight School Models"
   ]
  },
  {
   "cell_type": "markdown",
   "metadata": {},
   "source": [
    "We will be using the models from Michael Betancourt's essay *Diagnosing Biased Inference with Divergences* "
   ]
  },
  {
   "cell_type": "code",
   "execution_count": 9,
   "metadata": {},
   "outputs": [],
   "source": [
    "data = {\n",
    "    \"J\": 8,\n",
    "    \"y\": np.array([28.0, 8.0, -3.0, 7.0, -1.0, 1.0, 18.0, 12.0]),\n",
    "    \"sigma\": np.array([15.0, 10.0, 16.0, 11.0, 9.0, 11.0, 10.0, 18.0]),\n",
    "    }"
   ]
  },
  {
   "cell_type": "markdown",
   "metadata": {},
   "source": [
    "### Centered Eight Schools Model\n",
    "In the centered example theta is a normal distribution with the parameters `mu` and `tau`. Without prior knowledge this is a reasonable formulation."
   ]
  },
  {
   "cell_type": "code",
   "execution_count": 19,
   "metadata": {},
   "outputs": [],
   "source": [
    "non_centered_model = \"\"\"\n",
    "    data {\n",
    "      int<lower=0> J;\n",
    "      real y[J];\n",
    "      real<lower=0> sigma[J];\n",
    "    }\n",
    "\n",
    "    parameters {\n",
    "      real mu;\n",
    "      real<lower=0> tau;\n",
    "      real theta[J];\n",
    "    }\n",
    "\n",
    "    model {\n",
    "      mu ~ normal(0, 5);\n",
    "      tau ~ cauchy(0, 5);\n",
    "      theta ~ normal(mu, tau);\n",
    "      y ~ normal(theta, sigma);\n",
    "    }\n",
    "\"\"\""
   ]
  },
  {
   "cell_type": "code",
   "execution_count": 22,
   "metadata": {},
   "outputs": [
    {
     "name": "stdout",
     "output_type": "stream",
     "text": [
      "pystan - INFO - COMPILING THE C++ CODE FOR MODEL anon_model_dadcdb82e8768088aeb9c143cf1f3a28 NOW.\n",
      "pystan - WARNING - 2 of 500 iterations ended with a divergence (0.4%).\n",
      "pystan - WARNING - Try running with adapt_delta larger than 0.8 to remove the divergences.\n"
     ]
    }
   ],
   "source": [
    "sm = pystan.StanModel(model_code=non_centered_model)\n",
    "fit = sm.sampling(data=data, iter=500, chains=2, algorithm=\"NUTS\", verbose=False)"
   ]
  },
  {
   "cell_type": "markdown",
   "metadata": {},
   "source": [
    "ArviZ can then be used to calculate the effective sample size of the inference run."
   ]
  },
  {
   "cell_type": "code",
   "execution_count": 23,
   "metadata": {},
   "outputs": [
    {
     "data": {
      "text/plain": [
       "<xarray.Dataset>\n",
       "Dimensions:      (theta_dim_0: 8)\n",
       "Coordinates:\n",
       "  * theta_dim_0  (theta_dim_0) int64 0 1 2 3 4 5 6 7\n",
       "Data variables:\n",
       "    mu           float64 41.88\n",
       "    tau          float64 60.13\n",
       "    theta        (theta_dim_0) float64 79.34 116.7 83.64 ... 84.2 131.0 110.2"
      ]
     },
     "execution_count": 23,
     "metadata": {},
     "output_type": "execute_result"
    }
   ],
   "source": [
    "az.effective_n(fit)"
   ]
  },
  {
   "cell_type": "markdown",
   "metadata": {},
   "source": [
    "When running 500 sampling iterations, "
   ]
  },
  {
   "cell_type": "markdown",
   "metadata": {},
   "source": [
    "# Centered Model"
   ]
  },
  {
   "cell_type": "code",
   "execution_count": 13,
   "metadata": {},
   "outputs": [],
   "source": [
    "centered_model= \"\"\"\n",
    "data {\n",
    "  int<lower=0> J;\n",
    "  real y[J];\n",
    "  real<lower=0> sigma[J];\n",
    "}\n",
    "\n",
    "parameters {\n",
    "  real mu;\n",
    "  real<lower=0> tau;\n",
    "  real theta_tilde[J];\n",
    "}\n",
    "\n",
    "transformed parameters {\n",
    "  real theta[J];\n",
    "  for (j in 1:J)\n",
    "    theta[j] = mu + tau * theta_tilde[j];\n",
    "}\n",
    "\n",
    "model {\n",
    "  mu ~ normal(0, 5);\n",
    "  tau ~ cauchy(0, 5);\n",
    "  theta_tilde ~ normal(0, 1);\n",
    "  y ~ normal(theta, sigma);\n",
    "}\n",
    "\"\"\""
   ]
  },
  {
   "cell_type": "code",
   "execution_count": 14,
   "metadata": {},
   "outputs": [
    {
     "name": "stdout",
     "output_type": "stream",
     "text": [
      "pystan - WARNING - DeprecationWarning: pystan.stan was deprecated in version 2.17 and will be removed in version 3.0. Compile and use a Stan program in separate steps.\n",
      "pystan - INFO - COMPILING THE C++ CODE FOR MODEL anon_model_3f8f9e8bb354ab461436bb51d935571d NOW.\n",
      "pystan - WARNING - 2 of 500 iterations ended with a divergence (0.4%).\n",
      "pystan - WARNING - Try running with adapt_delta larger than 0.8 to remove the divergences.\n"
     ]
    },
    {
     "data": {
      "text/plain": [
       "<xarray.Dataset>\n",
       "Dimensions:            (theta_dim_0: 8, theta_tilde_dim_0: 8)\n",
       "Coordinates:\n",
       "  * theta_dim_0        (theta_dim_0) int64 0 1 2 3 4 5 6 7\n",
       "  * theta_tilde_dim_0  (theta_tilde_dim_0) int64 0 1 2 3 4 5 6 7\n",
       "Data variables:\n",
       "    mu                 float64 437.7\n",
       "    tau                float64 394.5\n",
       "    theta_tilde        (theta_tilde_dim_0) float64 486.0 376.5 ... 466.5 392.2\n",
       "    theta              (theta_dim_0) float64 392.3 537.4 502.2 ... 436.2 388.9"
      ]
     },
     "execution_count": 14,
     "metadata": {},
     "output_type": "execute_result"
    }
   ],
   "source": [
    "sm = pystan.StanModel(model_code=centered_model)\n",
    "fit = sm.sampling(data=data, iter=500, chains=2, algorithm=\"NUTS\", verbose=False)"
   ]
  },
  {
   "cell_type": "markdown",
   "metadata": {},
   "source": [
    "## PyMC3 (To show what Im trying to get at)"
   ]
  },
  {
   "cell_type": "code",
   "execution_count": null,
   "metadata": {},
   "outputs": [],
   "source": [
    "# Attempt to use pymc3 to estimate mean of the distribution\n",
    "with pm.Model() as model:\n",
    "    mu = pm.Normal(\"mu\", mu=-5000, sd=1)\n",
    "    y = pm.Normal(\"y\", mu=mu, sd=SD, observed=obs)\n",
    "    step = pm.Metropolis()\n",
    "    trace = pm.sample(500, step, chains=2)\n",
    "    \n",
    "print(az.effective_n(trace))\n",
    "\n",
    "\n",
    "# Attempt to use pymc3 to estimate mean of the distribution\n",
    "with pm.Model() as model:\n",
    "    mu = pm.Normal(\"mu\", mu=-5, sd=1)\n",
    "    y = pm.Normal(\"y\", mu=mu, sd=SD, observed=obs)\n",
    "    step = pm.Metropolis()\n",
    "    trace = pm.sample(500, step, chains=2)\n",
    "    \n",
    "az.effective_n(trace)"
   ]
  },
  {
   "cell_type": "markdown",
   "metadata": {},
   "source": [
    "#### The nice pystan output goes to the terminal (Possible to reverse outputs?)\n",
    "<img src=\"PystanOutputInTerminal.png\">"
   ]
  },
  {
   "cell_type": "markdown",
   "metadata": {},
   "source": [
    "### Resources\n",
    "[Effective Sample Size](https://www.youtube.com/watch?v=67zCIqdeXpo&t=227s) - Josh Starmer\n",
    "\n",
    "### See also\n",
    "Autocorrelation (TODO, Add link)"
   ]
  },
  {
   "cell_type": "code",
   "execution_count": null,
   "metadata": {},
   "outputs": [],
   "source": [
    "%load_ext watermark"
   ]
  },
  {
   "cell_type": "code",
   "execution_count": null,
   "metadata": {},
   "outputs": [],
   "source": [
    "%watermark -m"
   ]
  },
  {
   "cell_type": "code",
   "execution_count": null,
   "metadata": {},
   "outputs": [],
   "source": [
    "%watermark"
   ]
  }
 ],
 "metadata": {
  "kernelspec": {
   "display_name": "Python 3",
   "language": "python",
   "name": "python3"
  },
  "language_info": {
   "codemirror_mode": {
    "name": "ipython",
    "version": 3
   },
   "file_extension": ".py",
   "mimetype": "text/x-python",
   "name": "python",
   "nbconvert_exporter": "python",
   "pygments_lexer": "ipython3",
   "version": "3.7.1"
  }
 },
 "nbformat": 4,
 "nbformat_minor": 2
}
