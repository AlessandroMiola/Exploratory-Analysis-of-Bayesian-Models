{
 "cells": [
  {
   "cell_type": "markdown",
   "metadata": {},
   "source": [
    "# Effective Sample Size (N_Effective)\n",
    "\n",
    "## Effective Samples Introduction\n",
    "From Wikipedia *In statistics and quantitative research methodology, a data sample is a set of data collected and/or selected from a statistical population by a defined procedure*. Properly sampling is one of the most challenging parts of experimental design for all statistics, one of the pitfalls being correlated data points in a sample.\n",
    "\n",
    "For example if designing a drug to lower blood pressure, and if only able to 10 readings consider 3 designs.\n",
    "\n",
    "1. 10 readings from 1 person\n",
    "2. 10 readings from 10 people in one family\n",
    "3. 10 readings from 10 random people\n",
    "\n",
    "In each of these designs the number of data points remains the same, 10 readings, but an argument can be made that the **effective sample size** is not the same. In the first example, 10 readings from 1 person is a poor sample of if a drug works, there effectively was only one test if a drug had an effect. The second example is an improvement, but given knowledge of genetics family members will likely have similar reponses to a drug. The effective sample size is not one, but it could be argued that the sample size is greater than 10. In the last case 10 readings from 10 people would probably\n",
    "\n",
    "The key notion is that effective samples are ones that present new information about the objective of the experiment.\n",
    "\n",
    "## Effective Sample Size in Markov Chain Monte Carlo\n",
    "In MCMC samples are draws from the Markov Chain. Before the chain reaches convergence draws could be correlated, meaning the nth sample may not be independent from the (n-1) draw.\n",
    "\n",
    "To estimate the Gelman etal provide the following calculation $$\\hat{n}_{eff} = \\frac{mn}{1 + 2 \\sum_{t=1}^T \\hat{\\rho}_t}$$\n",
    "\n",
    "**TODO** Provide more information about effective sample size  \n",
    "\n"
   ]
  },
  {
   "cell_type": "markdown",
   "metadata": {},
   "source": [
    "### Examples"
   ]
  },
  {
   "cell_type": "code",
   "execution_count": 55,
   "metadata": {},
   "outputs": [],
   "source": [
    "import pymc3 as pm\n",
    "import pystan\n",
    "import arviz as az\n",
    "import numpy as np\n",
    "\n",
    "# Generate observed distribution with fixed parameters\n",
    "SD = 2\n",
    "MU = -5\n",
    "obs = np.random.normal(loc=MU, scale=SD, size=10000)"
   ]
  },
  {
   "cell_type": "markdown",
   "metadata": {},
   "source": [
    "### TODO Create an example of model with a high number of effective samples, and a low number of effective samples\n",
    "\n",
    "Trying to create a model thats initialized with poor priors to show that correlated draws and model parametrization affects the effective number of samples, even when the same number of draws are taken from an MCMC distribution\n",
    "\n",
    "Open to any other construction of example if there's better ideas. Trying to shoot for simple models that are easily understood."
   ]
  },
  {
   "cell_type": "code",
   "execution_count": 56,
   "metadata": {},
   "outputs": [],
   "source": [
    "# Set prior mean to -5000, very far from simulated mean\n",
    "stan_model = \"\"\"\n",
    "data {\n",
    "    int<lower=0> N;\n",
    "    real obs[N];\n",
    "}\n",
    "parameters {\n",
    "    real mu;\n",
    "}\n",
    "model {\n",
    "    mu ~ normal(-5000, 1);\n",
    "    obs ~ normal(mu, 2);\n",
    "}\n",
    "\"\"\""
   ]
  },
  {
   "cell_type": "code",
   "execution_count": 57,
   "metadata": {},
   "outputs": [
    {
     "name": "stderr",
     "output_type": "stream",
     "text": [
      "INFO:pystan:COMPILING THE C++ CODE FOR MODEL anon_model_dead2b1f535232df23a68405b6def90f NOW.\n"
     ]
    },
    {
     "name": "stdout",
     "output_type": "stream",
     "text": [
      "In file included from /var/folders/gt/28pvdm614vd_2tn01llmx3s00000gp/T/tmpio82c7o8/stanfit4anon_model_dead2b1f535232df23a68405b6def90f_2597627455423963051.cpp:642:\n",
      "In file included from /Users/canyon/.miniconda3/envs/arviz/lib/python3.6/site-packages/numpy/core/include/numpy/arrayobject.h:4:\n",
      "In file included from /Users/canyon/.miniconda3/envs/arviz/lib/python3.6/site-packages/numpy/core/include/numpy/ndarrayobject.h:18:\n",
      "In file included from /Users/canyon/.miniconda3/envs/arviz/lib/python3.6/site-packages/numpy/core/include/numpy/ndarraytypes.h:1821:\n",
      "/Users/canyon/.miniconda3/envs/arviz/lib/python3.6/site-packages/numpy/core/include/numpy/npy_1_7_deprecated_api.h:15:2: warning: \"Using deprecated NumPy API, disable it by \"          \"#defining NPY_NO_DEPRECATED_API NPY_1_7_API_VERSION\" [-W#warnings]\n",
      "#warning \"Using deprecated NumPy API, disable it by \" \\\n",
      " ^\n",
      "/var/folders/gt/28pvdm614vd_2tn01llmx3s00000gp/T/tmpio82c7o8/stanfit4anon_model_dead2b1f535232df23a68405b6def90f_2597627455423963051.cpp:9397:30: warning: comparison of integers of different signs: 'Py_ssize_t' (aka 'long') and 'std::__1::vector<std::__1::basic_string<char>, std::__1::allocator<std::__1::basic_string<char> > >::size_type' (aka 'unsigned long') [-Wsign-compare]\n",
      "    __pyx_t_12 = ((__pyx_t_9 != __pyx_v_fitptr->param_names_oi().size()) != 0);\n",
      "                   ~~~~~~~~~ ^  ~~~~~~~~~~~~~~~~~~~~~~~~~~~~~~~~~~~~~~~\n",
      "/var/folders/gt/28pvdm614vd_2tn01llmx3s00000gp/T/tmpio82c7o8/stanfit4anon_model_dead2b1f535232df23a68405b6def90f_2597627455423963051.cpp:27799:52: warning: code will never be executed [-Wunreachable-code]\n",
      "        } else if (PY_VERSION_HEX >= 0x030700A0 && flag == (METH_FASTCALL | METH_KEYWORDS)) {\n",
      "                                                   ^~~~\n",
      "/var/folders/gt/28pvdm614vd_2tn01llmx3s00000gp/T/tmpio82c7o8/stanfit4anon_model_dead2b1f535232df23a68405b6def90f_2597627455423963051.cpp:27799:38: note: silence by adding parentheses to mark code as explicitly dead\n",
      "        } else if (PY_VERSION_HEX >= 0x030700A0 && flag == (METH_FASTCALL | METH_KEYWORDS)) {\n",
      "                                     ^\n",
      "                                     /* DISABLES CODE */ ( )\n",
      "3 warnings generated.\n"
     ]
    },
    {
     "data": {
      "text/plain": [
       "<xarray.Dataset>\n",
       "Dimensions:  ()\n",
       "Data variables:\n",
       "    mu       float64 318.0"
      ]
     },
     "execution_count": 57,
     "metadata": {},
     "output_type": "execute_result"
    }
   ],
   "source": [
    "fit = pystan.stan(model_code=stan_model, data={\"obs\":obs, \"N\":10000}, iter=500, chains=2, algorithm=\"NUTS\")\n",
    "az.effective_n(fit)"
   ]
  },
  {
   "cell_type": "code",
   "execution_count": 58,
   "metadata": {},
   "outputs": [
    {
     "data": {
      "text/plain": [
       "array([[<matplotlib.axes._subplots.AxesSubplot object at 0x11ba49eb8>,\n",
       "        <matplotlib.axes._subplots.AxesSubplot object at 0x12433a828>]],\n",
       "      dtype=object)"
      ]
     },
     "execution_count": 58,
     "metadata": {},
     "output_type": "execute_result"
    },
    {
     "data": {
      "image/png": "[encoded data removed]",
      "text/plain": [
       "<Figure size 993.6x331.2 with 2 Axes>"
      ]
     },
     "metadata": {
      "needs_background": "light"
     },
     "output_type": "display_data"
    }
   ],
   "source": [
    "az.plot_autocorr(fit)"
   ]
  },
  {
   "cell_type": "markdown",
   "metadata": {},
   "source": [
    "### TODO, create a model with less effective samples and explain why that happens"
   ]
  },
  {
   "cell_type": "code",
   "execution_count": 60,
   "metadata": {},
   "outputs": [],
   "source": [
    "# Set prior mean to -5, exactly to prior mean\n",
    "stan_model = \"\"\"\n",
    "data {\n",
    "    int<lower=0> N;\n",
    "    real obs[N];\n",
    "}\n",
    "parameters {\n",
    "    real mu;\n",
    "}\n",
    "model {\n",
    "    mu ~ normal(-5, 1);\n",
    "    obs ~ normal(mu, 2);\n",
    "}\n",
    "\"\"\""
   ]
  },
  {
   "cell_type": "code",
   "execution_count": 61,
   "metadata": {},
   "outputs": [
    {
     "name": "stderr",
     "output_type": "stream",
     "text": [
      "INFO:pystan:COMPILING THE C++ CODE FOR MODEL anon_model_4d6898c286e45a9f74ce23a67f4b04eb NOW.\n"
     ]
    },
    {
     "name": "stdout",
     "output_type": "stream",
     "text": [
      "In file included from /var/folders/gt/28pvdm614vd_2tn01llmx3s00000gp/T/tmpnhqlnmjp/stanfit4anon_model_4d6898c286e45a9f74ce23a67f4b04eb_929144588070602651.cpp:642:\n",
      "In file included from /Users/canyon/.miniconda3/envs/arviz/lib/python3.6/site-packages/numpy/core/include/numpy/arrayobject.h:4:\n",
      "In file included from /Users/canyon/.miniconda3/envs/arviz/lib/python3.6/site-packages/numpy/core/include/numpy/ndarrayobject.h:18:\n",
      "In file included from /Users/canyon/.miniconda3/envs/arviz/lib/python3.6/site-packages/numpy/core/include/numpy/ndarraytypes.h:1821:\n",
      "/Users/canyon/.miniconda3/envs/arviz/lib/python3.6/site-packages/numpy/core/include/numpy/npy_1_7_deprecated_api.h:15:2: warning: \"Using deprecated NumPy API, disable it by \"          \"#defining NPY_NO_DEPRECATED_API NPY_1_7_API_VERSION\" [-W#warnings]\n",
      "#warning \"Using deprecated NumPy API, disable it by \" \\\n",
      " ^\n",
      "/var/folders/gt/28pvdm614vd_2tn01llmx3s00000gp/T/tmpnhqlnmjp/stanfit4anon_model_4d6898c286e45a9f74ce23a67f4b04eb_929144588070602651.cpp:9397:30: warning: comparison of integers of different signs: 'Py_ssize_t' (aka 'long') and 'std::__1::vector<std::__1::basic_string<char>, std::__1::allocator<std::__1::basic_string<char> > >::size_type' (aka 'unsigned long') [-Wsign-compare]\n",
      "    __pyx_t_12 = ((__pyx_t_9 != __pyx_v_fitptr->param_names_oi().size()) != 0);\n",
      "                   ~~~~~~~~~ ^  ~~~~~~~~~~~~~~~~~~~~~~~~~~~~~~~~~~~~~~~\n",
      "/var/folders/gt/28pvdm614vd_2tn01llmx3s00000gp/T/tmpnhqlnmjp/stanfit4anon_model_4d6898c286e45a9f74ce23a67f4b04eb_929144588070602651.cpp:27799:52: warning: code will never be executed [-Wunreachable-code]\n",
      "        } else if (PY_VERSION_HEX >= 0x030700A0 && flag == (METH_FASTCALL | METH_KEYWORDS)) {\n",
      "                                                   ^~~~\n",
      "/var/folders/gt/28pvdm614vd_2tn01llmx3s00000gp/T/tmpnhqlnmjp/stanfit4anon_model_4d6898c286e45a9f74ce23a67f4b04eb_929144588070602651.cpp:27799:38: note: silence by adding parentheses to mark code as explicitly dead\n",
      "        } else if (PY_VERSION_HEX >= 0x030700A0 && flag == (METH_FASTCALL | METH_KEYWORDS)) {\n",
      "                                     ^\n",
      "                                     /* DISABLES CODE */ ( )\n",
      "3 warnings generated.\n"
     ]
    },
    {
     "data": {
      "text/plain": [
       "<xarray.Dataset>\n",
       "Dimensions:  ()\n",
       "Data variables:\n",
       "    mu       float64 217.0"
      ]
     },
     "execution_count": 61,
     "metadata": {},
     "output_type": "execute_result"
    }
   ],
   "source": [
    "fit = pystan.stan(model_code=stan_model, data={\"obs\":obs, \"N\":10000}, iter=500, chains=2, algorithm=\"NUTS\")\n",
    "az.effective_n(fit)"
   ]
  },
  {
   "cell_type": "code",
   "execution_count": 62,
   "metadata": {},
   "outputs": [
    {
     "data": {
      "text/plain": [
       "array([[<matplotlib.axes._subplots.AxesSubplot object at 0x11c851080>,\n",
       "        <matplotlib.axes._subplots.AxesSubplot object at 0x11c82c198>]],\n",
       "      dtype=object)"
      ]
     },
     "execution_count": 62,
     "metadata": {},
     "output_type": "execute_result"
    },
    {
     "data": {
      "image/png": "[encoded data removed]",
      "text/plain": [
       "<Figure size 993.6x331.2 with 2 Axes>"
      ]
     },
     "metadata": {
      "needs_background": "light"
     },
     "output_type": "display_data"
    }
   ],
   "source": [
    "az.plot_autocorr(fit)"
   ]
  },
  {
   "cell_type": "markdown",
   "metadata": {},
   "source": [
    "## PyMC3 (To show what Im trying to get at)"
   ]
  },
  {
   "cell_type": "code",
   "execution_count": 64,
   "metadata": {},
   "outputs": [
    {
     "name": "stderr",
     "output_type": "stream",
     "text": [
      "Multiprocess sampling (2 chains in 2 jobs)\n",
      "INFO:pymc3:Multiprocess sampling (2 chains in 2 jobs)\n",
      "Metropolis: [mu]\n",
      "INFO:pymc3:Metropolis: [mu]\n",
      "Sampling 2 chains: 100%|██████████| 2000/2000 [00:00<00:00, 3948.47draws/s]\n",
      "The estimated number of effective samples is smaller than 200 for some parameters.\n",
      "ERROR:pymc3:The estimated number of effective samples is smaller than 200 for some parameters.\n"
     ]
    },
    {
     "name": "stdout",
     "output_type": "stream",
     "text": [
      "<xarray.Dataset>\n",
      "Dimensions:  ()\n",
      "Data variables:\n",
      "    mu       float64 4.0\n"
     ]
    },
    {
     "name": "stderr",
     "output_type": "stream",
     "text": [
      "Multiprocess sampling (2 chains in 2 jobs)\n",
      "INFO:pymc3:Multiprocess sampling (2 chains in 2 jobs)\n",
      "Metropolis: [mu]\n",
      "INFO:pymc3:Metropolis: [mu]\n",
      "Sampling 2 chains: 100%|██████████| 2000/2000 [00:00<00:00, 3636.81draws/s]\n",
      "The estimated number of effective samples is smaller than 200 for some parameters.\n",
      "ERROR:pymc3:The estimated number of effective samples is smaller than 200 for some parameters.\n"
     ]
    },
    {
     "data": {
      "text/plain": [
       "<xarray.Dataset>\n",
       "Dimensions:  ()\n",
       "Data variables:\n",
       "    mu       float64 91.0"
      ]
     },
     "execution_count": 64,
     "metadata": {},
     "output_type": "execute_result"
    }
   ],
   "source": [
    "# Attempt to use pymc3 to estimate mean of the distribution\n",
    "with pm.Model() as model:\n",
    "    mu = pm.Normal(\"mu\", mu=-5000, sd=1)\n",
    "    y = pm.Normal(\"y\", mu=mu, sd=SD, observed=obs)\n",
    "    step = pm.Metropolis()\n",
    "    trace = pm.sample(500, step, chains=2)\n",
    "    \n",
    "print(az.effective_n(trace))\n",
    "\n",
    "\n",
    "# Attempt to use pymc3 to estimate mean of the distribution\n",
    "with pm.Model() as model:\n",
    "    mu = pm.Normal(\"mu\", mu=-5, sd=1)\n",
    "    y = pm.Normal(\"y\", mu=mu, sd=SD, observed=obs)\n",
    "    step = pm.Metropolis()\n",
    "    trace = pm.sample(500, step, chains=2)\n",
    "    \n",
    "az.effective_n(trace)"
   ]
  },
  {
   "cell_type": "markdown",
   "metadata": {},
   "source": [
    "#### The nice pystan output goes to the terminal (Possible to reverse outputs?)\n",
    "<img src=\"PystanOutputInTerminal.png\">"
   ]
  },
  {
   "cell_type": "markdown",
   "metadata": {},
   "source": [
    "### Resources\n",
    "[Effective Sample Size](https://www.youtube.com/watch?v=67zCIqdeXpo&t=227s) - Josh Starmer\n",
    "\n",
    "### See also\n",
    "Autocorrelation (TODO, Add link)"
   ]
  }
 ],
 "metadata": {
  "kernelspec": {
   "display_name": "Python 3",
   "language": "python",
   "name": "python3"
  },
  "language_info": {
   "codemirror_mode": {
    "name": "ipython",
    "version": 3
   },
   "file_extension": ".py",
   "mimetype": "text/x-python",
   "name": "python",
   "nbconvert_exporter": "python",
   "pygments_lexer": "ipython3",
   "version": "3.6.6"
  }
 },
 "nbformat": 4,
 "nbformat_minor": 2
}
